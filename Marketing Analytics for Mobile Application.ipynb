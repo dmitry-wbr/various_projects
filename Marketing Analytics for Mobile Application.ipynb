{
 "cells": [
  {
   "cell_type": "markdown",
   "metadata": {},
   "source": [
    "## Marketing Analytics for Mobile Application\n",
    "\n",
    "Mobile application receives traffic from different sources. This traffic is not homogeneous and we need to know it better in order to optimize marketing activity\n",
    "\n",
    "We need to analyze dataset in order to find useful insights: what segments of data bring traffic with the best quality (Main metric is conversion rate from lead to client. There can be other metrics as well) \n",
    "\n",
    "\n",
    "Questions to consider:\n",
    "<br>-How users are distributed over countries?\n",
    "<br>-How many outliers are there in data (in terms of deposits)?\n",
    "<br>-Find segments with best conversion rate (client/lead ratio) and explain why you consider them best ones\n",
    "<br>-Visualize deposits distribution over sources and channels\n",
    "<br>-What are your advices to marketing team in order to optimize their activity?\n",
    "\n",
    "'data.csv' contains lead/client data, 'country.csv' contains ISO codes for countries\n",
    "\n",
    "<br>**Data description**: \n",
    "<br>*Client_id* - unique id of lead/client. it's assigned during registration and isn't changed anymore \n",
    "<br>*Country* - country of lead/client (iso2). It's in the separate file (countries.csv)\n",
    "<br>*Source* - source of traffic acquisition. There are two possible sources (posts and telegram channel). if Source contains \"postid\" - it means that lead came from article. id of post doesn't matter. if Source contains \"telegram\" - it means that lead came from telegram<br>*Channel* - channel of traffic. For example, user can come from 'telegram' source and from 'affiliate' channel\n",
    "<br>*Clicks* - amount of clicks user made during first day after registration\n",
    "<br>*Latency* - time of application loading in miliseconds\n",
    "<br>*Depo* - amount of deposit, USD\n",
    "\n",
    "\n",
    "Glossary:\n",
    "Lead: user who registered inside mobile app\n",
    "Client: user who registered inside mobile app AND made a deposit"
   ]
  },
  {
   "cell_type": "code",
   "execution_count": 1,
   "metadata": {},
   "outputs": [],
   "source": [
    "# importing libraries, loading datasets\n",
    "import pandas as pd\n",
    "import matplotlib.pyplot as plt\n",
    "\n",
    "countries = pd.read_csv('countries.csv')\n",
    "data = pd.read_csv('data.csv')"
   ]
  },
  {
   "cell_type": "markdown",
   "metadata": {},
   "source": [
    "### How users are distributed over countries? "
   ]
  },
  {
   "cell_type": "code",
   "execution_count": 2,
   "metadata": {},
   "outputs": [
    {
     "data": {
      "text/html": [
       "<div>\n",
       "<style scoped>\n",
       "    .dataframe tbody tr th:only-of-type {\n",
       "        vertical-align: middle;\n",
       "    }\n",
       "\n",
       "    .dataframe tbody tr th {\n",
       "        vertical-align: top;\n",
       "    }\n",
       "\n",
       "    .dataframe thead th {\n",
       "        text-align: right;\n",
       "    }\n",
       "</style>\n",
       "<table border=\"1\" class=\"dataframe\">\n",
       "  <thead>\n",
       "    <tr style=\"text-align: right;\">\n",
       "      <th></th>\n",
       "      <th>country</th>\n",
       "      <th>users count</th>\n",
       "      <th>% of total</th>\n",
       "    </tr>\n",
       "  </thead>\n",
       "  <tbody>\n",
       "    <tr>\n",
       "      <th>0</th>\n",
       "      <td>N/A</td>\n",
       "      <td>61754</td>\n",
       "      <td>28.16</td>\n",
       "    </tr>\n",
       "    <tr>\n",
       "      <th>1</th>\n",
       "      <td>DE</td>\n",
       "      <td>14504</td>\n",
       "      <td>6.61</td>\n",
       "    </tr>\n",
       "    <tr>\n",
       "      <th>2</th>\n",
       "      <td>ES</td>\n",
       "      <td>14443</td>\n",
       "      <td>6.59</td>\n",
       "    </tr>\n",
       "    <tr>\n",
       "      <th>3</th>\n",
       "      <td>US</td>\n",
       "      <td>14427</td>\n",
       "      <td>6.58</td>\n",
       "    </tr>\n",
       "    <tr>\n",
       "      <th>4</th>\n",
       "      <td>IS</td>\n",
       "      <td>14407</td>\n",
       "      <td>6.57</td>\n",
       "    </tr>\n",
       "    <tr>\n",
       "      <th>5</th>\n",
       "      <td>VN</td>\n",
       "      <td>14374</td>\n",
       "      <td>6.55</td>\n",
       "    </tr>\n",
       "    <tr>\n",
       "      <th>6</th>\n",
       "      <td>LT</td>\n",
       "      <td>14341</td>\n",
       "      <td>6.54</td>\n",
       "    </tr>\n",
       "    <tr>\n",
       "      <th>7</th>\n",
       "      <td>FR</td>\n",
       "      <td>14292</td>\n",
       "      <td>6.52</td>\n",
       "    </tr>\n",
       "    <tr>\n",
       "      <th>8</th>\n",
       "      <td>MO</td>\n",
       "      <td>14226</td>\n",
       "      <td>6.49</td>\n",
       "    </tr>\n",
       "    <tr>\n",
       "      <th>9</th>\n",
       "      <td>IN</td>\n",
       "      <td>14215</td>\n",
       "      <td>6.48</td>\n",
       "    </tr>\n",
       "    <tr>\n",
       "      <th>10</th>\n",
       "      <td>IT</td>\n",
       "      <td>14211</td>\n",
       "      <td>6.48</td>\n",
       "    </tr>\n",
       "    <tr>\n",
       "      <th>11</th>\n",
       "      <td>LU</td>\n",
       "      <td>14120</td>\n",
       "      <td>6.44</td>\n",
       "    </tr>\n",
       "  </tbody>\n",
       "</table>\n",
       "</div>"
      ],
      "text/plain": [
       "   country  users count  % of total\n",
       "0      N/A        61754       28.16\n",
       "1       DE        14504        6.61\n",
       "2       ES        14443        6.59\n",
       "3       US        14427        6.58\n",
       "4       IS        14407        6.57\n",
       "5       VN        14374        6.55\n",
       "6       LT        14341        6.54\n",
       "7       FR        14292        6.52\n",
       "8       MO        14226        6.49\n",
       "9       IN        14215        6.48\n",
       "10      IT        14211        6.48\n",
       "11      LU        14120        6.44"
      ]
     },
     "execution_count": 2,
     "metadata": {},
     "output_type": "execute_result"
    }
   ],
   "source": [
    "# remove duplicate client_ids from countries dataset, merge with clients dataset and fill NaNs with 'N/A' values\n",
    "countries.drop_duplicates(['client_id'], keep='last', inplace=True)\n",
    "data = pd.merge(data, countries, how='left', on='client_id')\n",
    "data.fillna('N/A', inplace=True)\n",
    "\n",
    "# show country distribution in table\n",
    "t = pd.DataFrame({'country':data.country.value_counts().keys(),\n",
    "                  'users count':data.country.value_counts(), \n",
    "                  '% of total':round(data.country.value_counts(normalize=True)*100,2)})\n",
    "t = t.reset_index(drop=True)\n",
    "t"
   ]
  },
  {
   "cell_type": "markdown",
   "metadata": {},
   "source": [
    "Out of 219314 users recorded over the period, 61754 users (28% of total) had no information about the country. Other users were almost evenly distributed, with each country attributing to approximately 14k users (about 6.4-6.6% of total for each country)"
   ]
  },
  {
   "cell_type": "markdown",
   "metadata": {},
   "source": [
    "### How many outliers are there in data (in terms of deposits)?"
   ]
  },
  {
   "cell_type": "code",
   "execution_count": 3,
   "metadata": {},
   "outputs": [
    {
     "name": "stdout",
     "output_type": "stream",
     "text": [
      "There are 209216 clients that have not deposited any funds, whereas 10098 had non-zero deposit\n"
     ]
    }
   ],
   "source": [
    "print('There are ' + str(len(data[data['depo'] == 0])) + ' clients that have not deposited any funds, whereas ' +\n",
    "      str(len(data[data['depo'] != 0])) + ' had non-zero deposit')"
   ]
  },
  {
   "cell_type": "code",
   "execution_count": 4,
   "metadata": {},
   "outputs": [
    {
     "data": {
      "text/plain": [
       "count    10098.000000\n",
       "mean       485.653397\n",
       "std       1792.419644\n",
       "min       -164.000000\n",
       "25%        210.000000\n",
       "50%        319.000000\n",
       "75%        428.000000\n",
       "max      31675.000000\n",
       "Name: depo, dtype: float64"
      ]
     },
     "execution_count": 4,
     "metadata": {},
     "output_type": "execute_result"
    }
   ],
   "source": [
    "# descriptive statistics of the deposits data (excluding zero deposits)\n",
    "deposits = data[data['depo'] != 0]\n",
    "deposits['depo'].describe()"
   ]
  },
  {
   "cell_type": "code",
   "execution_count": 5,
   "metadata": {},
   "outputs": [
    {
     "data": {
      "text/plain": [
       "108"
      ]
     },
     "execution_count": 5,
     "metadata": {},
     "output_type": "execute_result"
    }
   ],
   "source": [
    "# there are 108 negative deposits that doesn't make sense and can be considered an erroneous data\n",
    "len(deposits[deposits['depo']<0])"
   ]
  },
  {
   "cell_type": "markdown",
   "metadata": {},
   "source": [
    "Outliers are defined as values that are lower than first quartile - 1.5 * interquartile range or higher than third quartile + 1.5 * interquartile range. Interquartile range = third quartile (Q3) - first quartile (Q1)"
   ]
  },
  {
   "cell_type": "code",
   "execution_count": 6,
   "metadata": {},
   "outputs": [
    {
     "data": {
      "image/png": "[encoded data removed]",
      "text/plain": [
       "<Figure size 864x288 with 1 Axes>"
      ]
     },
     "metadata": {
      "needs_background": "light"
     },
     "output_type": "display_data"
    }
   ],
   "source": [
    "# by looking at the boxplot we can see that most of the outliers are deposits above 5000 USD\n",
    "fig, ax = plt.subplots(figsize=(12,4))\n",
    "ax.boxplot(deposits['depo'], notch=True, vert=0)\n",
    "plt.show()"
   ]
  },
  {
   "cell_type": "code",
   "execution_count": 7,
   "metadata": {},
   "outputs": [
    {
     "data": {
      "text/plain": [
       "111"
      ]
     },
     "execution_count": 7,
     "metadata": {},
     "output_type": "execute_result"
    }
   ],
   "source": [
    "# labeling outliers and negative deposits\n",
    "Q1 = deposits['depo'].describe().loc['25%']\n",
    "Q3 = deposits['depo'].describe().loc['75%']\n",
    "IQR = Q3 - Q1 \n",
    "\n",
    "outlier_marker = []\n",
    "for i in data['depo']:\n",
    "    if i < 0:\n",
    "        outlier_marker.append(1)\n",
    "    elif i > 0 and (i < (Q1-1.5*IQR) or i > (Q3 + 1.5*IQR)):\n",
    "        outlier_marker.append(1)\n",
    "    else:\n",
    "        outlier_marker.append(0)\n",
    "        \n",
    "data['outlier'] = outlier_marker\n",
    "\n",
    "# print the number of outliers\n",
    "len(data[(data['outlier'] == 1) & (data['depo'] > 0)])"
   ]
  },
  {
   "cell_type": "markdown",
   "metadata": {},
   "source": [
    "There are 10098 clients that actually deposited some funds. Average deposited amount is 485 USD and median is 319 USD. \n",
    "There are 108 negative deposits that probably were the result of error, because deposits cannot be negative and 111 outliers (deposit amounts that lie beyond Q1/Q3+-1.5 * IQR range)\n",
    "\n",
    "Total number of outliers = 108+111 = 219"
   ]
  },
  {
   "cell_type": "markdown",
   "metadata": {},
   "source": [
    "### Find segments with best conversion rate (client/lead ratio) and explain why you consider them best ones"
   ]
  },
  {
   "cell_type": "code",
   "execution_count": 8,
   "metadata": {},
   "outputs": [
    {
     "data": {
      "text/html": [
       "<div>\n",
       "<style scoped>\n",
       "    .dataframe tbody tr th:only-of-type {\n",
       "        vertical-align: middle;\n",
       "    }\n",
       "\n",
       "    .dataframe tbody tr th {\n",
       "        vertical-align: top;\n",
       "    }\n",
       "\n",
       "    .dataframe thead th {\n",
       "        text-align: right;\n",
       "    }\n",
       "</style>\n",
       "<table border=\"1\" class=\"dataframe\">\n",
       "  <thead>\n",
       "    <tr style=\"text-align: right;\">\n",
       "      <th></th>\n",
       "      <th>segment</th>\n",
       "      <th>channel</th>\n",
       "      <th>client_id</th>\n",
       "    </tr>\n",
       "  </thead>\n",
       "  <tbody>\n",
       "    <tr>\n",
       "      <th>9</th>\n",
       "      <td>telegram</td>\n",
       "      <td>facebook</td>\n",
       "      <td>20715</td>\n",
       "    </tr>\n",
       "    <tr>\n",
       "      <th>10</th>\n",
       "      <td>telegram</td>\n",
       "      <td>smm</td>\n",
       "      <td>18946</td>\n",
       "    </tr>\n",
       "    <tr>\n",
       "      <th>11</th>\n",
       "      <td>telegram</td>\n",
       "      <td>social media</td>\n",
       "      <td>12187</td>\n",
       "    </tr>\n",
       "    <tr>\n",
       "      <th>8</th>\n",
       "      <td>telegram</td>\n",
       "      <td>direct</td>\n",
       "      <td>6101</td>\n",
       "    </tr>\n",
       "    <tr>\n",
       "      <th>7</th>\n",
       "      <td>telegram</td>\n",
       "      <td>affiliate</td>\n",
       "      <td>3050</td>\n",
       "    </tr>\n",
       "    <tr>\n",
       "      <th>6</th>\n",
       "      <td>telegram</td>\n",
       "      <td>N/A</td>\n",
       "      <td>610</td>\n",
       "    </tr>\n",
       "    <tr>\n",
       "      <th>3</th>\n",
       "      <td>post</td>\n",
       "      <td>facebook</td>\n",
       "      <td>55736</td>\n",
       "    </tr>\n",
       "    <tr>\n",
       "      <th>4</th>\n",
       "      <td>post</td>\n",
       "      <td>smm</td>\n",
       "      <td>46777</td>\n",
       "    </tr>\n",
       "    <tr>\n",
       "      <th>5</th>\n",
       "      <td>post</td>\n",
       "      <td>social media</td>\n",
       "      <td>30022</td>\n",
       "    </tr>\n",
       "    <tr>\n",
       "      <th>2</th>\n",
       "      <td>post</td>\n",
       "      <td>direct</td>\n",
       "      <td>15592</td>\n",
       "    </tr>\n",
       "    <tr>\n",
       "      <th>1</th>\n",
       "      <td>post</td>\n",
       "      <td>affiliate</td>\n",
       "      <td>7800</td>\n",
       "    </tr>\n",
       "    <tr>\n",
       "      <th>0</th>\n",
       "      <td>post</td>\n",
       "      <td>N/A</td>\n",
       "      <td>1559</td>\n",
       "    </tr>\n",
       "  </tbody>\n",
       "</table>\n",
       "</div>"
      ],
      "text/plain": [
       "     segment       channel  client_id\n",
       "9   telegram      facebook      20715\n",
       "10  telegram           smm      18946\n",
       "11  telegram  social media      12187\n",
       "8   telegram        direct       6101\n",
       "7   telegram     affiliate       3050\n",
       "6   telegram           N/A        610\n",
       "3       post      facebook      55736\n",
       "4       post           smm      46777\n",
       "5       post  social media      30022\n",
       "2       post        direct      15592\n",
       "1       post     affiliate       7800\n",
       "0       post           N/A       1559"
      ]
     },
     "execution_count": 8,
     "metadata": {},
     "output_type": "execute_result"
    }
   ],
   "source": [
    "# remove outliers from the data\n",
    "data_norm = data[data['outlier'] == 0]\n",
    "data_norm = data_norm.reset_index()\n",
    "\n",
    "# transform 'segment' column by removing id numbers from posts\n",
    "data_norm['segment'] = data_norm['segment'].apply(lambda x: 'post' if 'postid' in x else x)\n",
    "\n",
    "# look at numbers of leads from all segments and channels\n",
    "data_norm.groupby(['segment', 'channel'], as_index=False)['client_id'].count().sort_values(by=['segment','client_id'], ascending=False)"
   ]
  },
  {
   "cell_type": "code",
   "execution_count": 9,
   "metadata": {},
   "outputs": [
    {
     "data": {
      "image/png": "[encoded data removed]",
      "text/plain": [
       "<Figure size 864x360 with 2 Axes>"
      ]
     },
     "metadata": {
      "needs_background": "light"
     },
     "output_type": "display_data"
    }
   ],
   "source": [
    "# plot graphs with conversion rates and total deposit amount by segment & channel\n",
    "d1 = data_norm.groupby(['segment', 'channel'], as_index=False)['depo'].agg(lambda x: round(x[x>0].count()/x.count()*100,2))\n",
    "d2 = data_norm.groupby(['segment', 'channel'], as_index=False)['depo'].sum()\n",
    "\n",
    "d1['segment-channel'] = d1['segment'] + ', ' + d1['channel']\n",
    "d2['segment-channel'] = d1['segment'] + ', ' + d1['channel']\n",
    "\n",
    "merged = pd.merge(d1, d2[['segment-channel','depo']], how='left', on='segment-channel').sort_values(by=['depo_y'])\n",
    "\n",
    "fig, ax = plt.subplots(1, 2, figsize=(12,5))\n",
    "\n",
    "ax[0].barh(merged['segment-channel'], merged['depo_x'], color='red')\n",
    "ax[1].barh(merged['segment-channel'], merged['depo_y'], color='blue')\n",
    "ax[0].set_title('Conversion, %')\n",
    "ax[1].set_title('Total amount deposited, mln. USD')\n",
    "\n",
    "ax[0].axvline(x = merged['depo_x'].mean(), color = 'black', linestyle='--', label='Average conversion')\n",
    "ax[1].axvline(x = merged['depo_y'].median(), color = 'black', linestyle='--', label='Median total amount deposited')\n",
    "\n",
    "ax[0].legend(loc=4)\n",
    "ax[1].legend(loc=4)\n",
    "\n",
    "fig.tight_layout()\n",
    "plt.show()"
   ]
  },
  {
   "cell_type": "markdown",
   "metadata": {},
   "source": [
    "Telegram attracted traffic with the best conversion rates (SMM, social media, direct and affiliate channels), that were above average (6-8% conversion rates). However traffic from posts (Facebook, SMM, direct) attracted total deposit amounts that were significantly higher than the median across other segments/channels"
   ]
  },
  {
   "cell_type": "markdown",
   "metadata": {},
   "source": [
    "### Visualize deposits distribution over sources and channels"
   ]
  },
  {
   "cell_type": "code",
   "execution_count": 10,
   "metadata": {},
   "outputs": [
    {
     "data": {
      "image/png": "[encoded data removed]",
      "text/plain": [
       "<Figure size 864x360 with 12 Axes>"
      ]
     },
     "metadata": {
      "needs_background": "light"
     },
     "output_type": "display_data"
    }
   ],
   "source": [
    "# make multiple histograms with distribution of deposits over sources and channels, add black lines to show median deposit amount\n",
    "fig, ax = plt.subplots(2, 6, figsize=(12,5))\n",
    "\n",
    "indx = 0\n",
    "columns = -1\n",
    "for seg in data_norm['segment'].unique():\n",
    "    columns = columns + 1\n",
    "    indx = 0\n",
    "    for chan in data_norm['channel'].unique():\n",
    "        d = data_norm[(data_norm['segment'] == seg) & (data_norm['channel'] == chan) & (data_norm['depo'] > 0)]\n",
    "        ax[columns][indx].hist(d['depo'],bins=20)\n",
    "        ax[columns][indx].set_title(chan)\n",
    "        ax[columns][indx].axvline(x = d['depo'].median(), color = 'black', linestyle='--')\n",
    "        indx += 1\n",
    "\n",
    "ax[0][0].set_ylabel(data_norm['segment'].unique()[0])\n",
    "ax[1][0].set_ylabel(data_norm['segment'].unique()[1]) \n",
    "fig.tight_layout()        \n",
    "plt.show()"
   ]
  },
  {
   "cell_type": "markdown",
   "metadata": {},
   "source": [
    "Deposit distributions across segments and channels are roughly normal for the most part. Posts clearly have higher median amount deposited across all channels (except for social media) compared to Telegram"
   ]
  },
  {
   "cell_type": "markdown",
   "metadata": {},
   "source": [
    "### What are your advices to marketing team in order to optimize their activity?"
   ]
  },
  {
   "cell_type": "markdown",
   "metadata": {},
   "source": [
    "It is important to find optimal mix of marketing channels - those that provide highest conversion and attract largest deposits.\n",
    "\n",
    "My advice is to put more effort into developing successful channels and cutting those that do not create value. Based on the data I would suggest:\n",
    "<br>**(1)** Focus on the support of channels that demonstrate high conversion rates and large deposit inflows (Telegram SMM & Posts on Facebook)\n",
    "<br>**(2)** Exit channels that do not create any value (Posts on social media)\n",
    "<br>**(3)** Attract more leads into channels that have high conversion rates, but small deposited amounts (direct, affiliate and social media channels on Telegram). Expansion of those channels will provide higher deposit inflows."
   ]
  }
 ],
 "metadata": {
  "kernelspec": {
   "display_name": "Python 3",
   "language": "python",
   "name": "python3"
  },
  "language_info": {
   "codemirror_mode": {
    "name": "ipython",
    "version": 3
   },
   "file_extension": ".py",
   "mimetype": "text/x-python",
   "name": "python",
   "nbconvert_exporter": "python",
   "pygments_lexer": "ipython3",
   "version": "3.8.3"
  }
 },
 "nbformat": 4,
 "nbformat_minor": 4
}
